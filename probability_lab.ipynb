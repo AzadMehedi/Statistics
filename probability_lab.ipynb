{
  "nbformat": 4,
  "nbformat_minor": 0,
  "metadata": {
    "colab": {
      "provenance": [],
      "authorship_tag": "ABX9TyMmUsfGvws34Ave9QqNXgRw",
      "include_colab_link": true
    },
    "kernelspec": {
      "name": "python3",
      "display_name": "Python 3"
    },
    "language_info": {
      "name": "python"
    }
  },
  "cells": [
    {
      "cell_type": "markdown",
      "metadata": {
        "id": "view-in-github",
        "colab_type": "text"
      },
      "source": [
        "<a href=\"https://colab.research.google.com/github/AzadMehedi/Statistics/blob/main/probability_lab.ipynb\" target=\"_parent\"><img src=\"https://colab.research.google.com/assets/colab-badge.svg\" alt=\"Open In Colab\"/></a>"
      ]
    },
    {
      "cell_type": "code",
      "execution_count": null,
      "metadata": {
        "id": "q1sSqJV7aBcO"
      },
      "outputs": [],
      "source": []
    },
    {
      "cell_type": "markdown",
      "source": [
        "# Simple probably function"
      ],
      "metadata": {
        "id": "kc7pnWr1aFiG"
      }
    },
    {
      "cell_type": "code",
      "source": [
        "def P(favourable_outcome, total_outcome):\n",
        "  P = favourable_outcome/total_outcome\n",
        "  print('Probability is: ', round(P,3))"
      ],
      "metadata": {
        "id": "JAHTeOQOaPki"
      },
      "execution_count": 3,
      "outputs": []
    },
    {
      "cell_type": "code",
      "source": [
        "# favourable_outcome = 1\n",
        "# total_outcome = 6\n",
        "# P(favourable_outcome, total_outcome)\n",
        "P(1,6)"
      ],
      "metadata": {
        "colab": {
          "base_uri": "https://localhost:8080/"
        },
        "id": "lm6R_yy9aqv1",
        "outputId": "f114bbc9-0aa7-4171-c648-759690ce5e63"
      },
      "execution_count": 6,
      "outputs": [
        {
          "output_type": "execute_result",
          "data": {
            "text/plain": [
              "0.16666666666666666"
            ]
          },
          "metadata": {},
          "execution_count": 6
        }
      ]
    },
    {
      "cell_type": "markdown",
      "source": [
        "# Law of large number\n",
        "- According to the law of large numbers, if we increase the number of trials in an experiment, the law of probability will start to become more clear to us. Consider the following coin toss experiment as an example. If we take 100 times of trials, we see that the result is heads 49 times and tails 51 times, the more trials we take, the closer the results will be. You can test by increasing or decreasing the number of code trials if you want.\n"
      ],
      "metadata": {
        "id": "VoI6wtsTbcgr"
      }
    },
    {
      "cell_type": "code",
      "source": [
        "from random import randint\n",
        "trails = int(input('Number of trails: '))\n",
        "outcomes = []\n",
        "\n",
        "for i in range(trails):\n",
        "  outcomes.append(randint(0,1))\n",
        "\n",
        "head = outcomes.count(0)\n",
        "tail = outcomes.count(1)\n",
        "\n",
        "print('Head: ', head)\n",
        "print('Tail: ', tail)"
      ],
      "metadata": {
        "colab": {
          "base_uri": "https://localhost:8080/"
        },
        "id": "fNLpjmf2axME",
        "outputId": "13e62cba-8a71-428c-f801-69ce513a5e48"
      },
      "execution_count": 29,
      "outputs": [
        {
          "output_type": "stream",
          "name": "stdout",
          "text": [
            "Number of trails: 100\n",
            "Head:  52\n",
            "Tail:  48\n"
          ]
        }
      ]
    },
    {
      "cell_type": "markdown",
      "source": [
        "# Dice experiment"
      ],
      "metadata": {
        "id": "SENErtuTdtWe"
      }
    },
    {
      "cell_type": "code",
      "source": [
        "from random import randint\n",
        "trails = 10000\n",
        "outcome = []\n",
        "\n",
        "for i in range(trails):\n",
        "  outcome.append(randint(1,6))\n",
        "\n",
        "one = outcome.count(1)\n",
        "two = outcome.count(2)\n",
        "three = outcome.count(3)\n",
        "four = outcome.count(4)\n",
        "five = outcome.count(5)\n",
        "six = outcome.count(6)\n",
        "\n",
        "print('One: ', one)\n",
        "print('Two: ', two)\n",
        "print('Three: ', three)\n",
        "print('Four: ', four)\n",
        "print('Five: ', five)\n",
        "print('Six: ', six)"
      ],
      "metadata": {
        "colab": {
          "base_uri": "https://localhost:8080/"
        },
        "id": "2sGlmoLncpjF",
        "outputId": "93fad9f7-89bf-43ae-ada5-9e6cd4c755fb"
      },
      "execution_count": 34,
      "outputs": [
        {
          "output_type": "stream",
          "name": "stdout",
          "text": [
            "One:  1609\n",
            "Two:  1769\n",
            "Three:  1689\n",
            "Four:  1648\n",
            "Five:  1628\n",
            "Six:  1657\n"
          ]
        }
      ]
    },
    {
      "cell_type": "markdown",
      "source": [
        "# Probability Multiplication Law\n",
        "- For `Independent Event`"
      ],
      "metadata": {
        "id": "6HyzKoD3e-q-"
      }
    },
    {
      "cell_type": "markdown",
      "source": [
        "### Question:\n",
        "- `Probability that the first marble is red after the second one is blue:` A container contains 3 blue marbles, 2 red and 4 yellow marbles. Now you are asked to first pick up a marble, write down its color and put it back in the container. Then pick another marble and write down its color. Now what is the probability that the second marble will be blue after the first marble is red?\n"
      ],
      "metadata": {
        "id": "pHm7UvUkhAaG"
      }
    },
    {
      "cell_type": "code",
      "source": [
        "def a_and_b(A, B, total):\n",
        "  probability_A = B/total\n",
        "  probability_B = B/total\n",
        "\n",
        "  # Multiplication Law\n",
        "  AB = probability_A*probability_B\n",
        "  print('Probability(A and B)', round(AB, 3))\n"
      ],
      "metadata": {
        "id": "8uI5-HqTeq95"
      },
      "execution_count": 36,
      "outputs": []
    },
    {
      "cell_type": "code",
      "source": [
        "# red = 2\n",
        "# blue = 3\n",
        "# total = 9\n",
        "# a_and_b(red,blue,total)\n",
        "a_and_b(2,3,9)"
      ],
      "metadata": {
        "colab": {
          "base_uri": "https://localhost:8080/"
        },
        "id": "SEnYygZKf-aa",
        "outputId": "18cd9f5e-5306-4c5f-bb8f-7f540ed1d089"
      },
      "execution_count": 37,
      "outputs": [
        {
          "output_type": "stream",
          "name": "stdout",
          "text": [
            "Probability(A and B) 0.111\n"
          ]
        }
      ]
    },
    {
      "cell_type": "markdown",
      "source": [
        "# Probability Adding Law\n",
        "- There are 30 students in a class, including 17 boys and 13 girls. 4 boys and 5 girls got A+ in class test. Now if you are asked to pick a student at random what is the probability of that student getting a girl or an A+?\n"
      ],
      "metadata": {
        "id": "ShUnBOYbo7ig"
      }
    },
    {
      "cell_type": "code",
      "source": [
        "def A_or_B(A, B, AnB, total):\n",
        "  PA = A/total\n",
        "  PB = B/total \n",
        "  AnB = AnB/total\n",
        "  \n",
        "  # Addtion law\n",
        "  AB = PA*PB-AnB\n",
        "  \n",
        "  print('P(A or B): ', round(AnB, 3))\n"
      ],
      "metadata": {
        "id": "dGGbat1jgU13"
      },
      "execution_count": 38,
      "outputs": []
    },
    {
      "cell_type": "code",
      "source": [],
      "metadata": {
        "id": "T_GhVdPKrG8E"
      },
      "execution_count": null,
      "outputs": []
    }
  ]
}