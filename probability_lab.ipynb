{
  "nbformat": 4,
  "nbformat_minor": 0,
  "metadata": {
    "colab": {
      "provenance": [],
      "authorship_tag": "ABX9TyM7KiHg2EMrA4EH2FwIOmaq",
      "include_colab_link": true
    },
    "kernelspec": {
      "name": "python3",
      "display_name": "Python 3"
    },
    "language_info": {
      "name": "python"
    }
  },
  "cells": [
    {
      "cell_type": "markdown",
      "metadata": {
        "id": "view-in-github",
        "colab_type": "text"
      },
      "source": [
        "<a href=\"https://colab.research.google.com/github/AzadMehedi/Statistics/blob/main/probability_lab.ipynb\" target=\"_parent\"><img src=\"https://colab.research.google.com/assets/colab-badge.svg\" alt=\"Open In Colab\"/></a>"
      ]
    },
    {
      "cell_type": "code",
      "execution_count": null,
      "metadata": {
        "id": "q1sSqJV7aBcO"
      },
      "outputs": [],
      "source": []
    },
    {
      "cell_type": "markdown",
      "source": [
        "# Simple probably function"
      ],
      "metadata": {
        "id": "kc7pnWr1aFiG"
      }
    },
    {
      "cell_type": "code",
      "source": [
        "def P(favourable_outcome, total_outcome):\n",
        "  P = favourable_outcome/total_outcome\n",
        "  print('Probability is: ', round(P,3))"
      ],
      "metadata": {
        "id": "JAHTeOQOaPki"
      },
      "execution_count": null,
      "outputs": []
    },
    {
      "cell_type": "code",
      "source": [
        "# favourable_outcome = 1\n",
        "# total_outcome = 6\n",
        "# P(favourable_outcome, total_outcome)\n",
        "P(1,6)"
      ],
      "metadata": {
        "colab": {
          "base_uri": "https://localhost:8080/"
        },
        "id": "lm6R_yy9aqv1",
        "outputId": "f114bbc9-0aa7-4171-c648-759690ce5e63"
      },
      "execution_count": null,
      "outputs": [
        {
          "output_type": "execute_result",
          "data": {
            "text/plain": [
              "0.16666666666666666"
            ]
          },
          "metadata": {},
          "execution_count": 6
        }
      ]
    },
    {
      "cell_type": "markdown",
      "source": [
        "# Law of large number\n",
        "- According to the law of large numbers, if we increase the number of trials in an experiment, the law of probability will start to become more clear to us. Consider the following coin toss experiment as an example. If we take 100 times of trials, we see that the result is heads 49 times and tails 51 times, the more trials we take, the closer the results will be. You can test by increasing or decreasing the number of code trials if you want.\n"
      ],
      "metadata": {
        "id": "VoI6wtsTbcgr"
      }
    },
    {
      "cell_type": "code",
      "source": [
        "from random import randint\n",
        "trails = int(input('Number of trails: '))\n",
        "outcomes = []\n",
        "\n",
        "for i in range(trails):\n",
        "  outcomes.append(randint(0,1))\n",
        "\n",
        "head = outcomes.count(0)\n",
        "tail = outcomes.count(1)\n",
        "\n",
        "print('Head: ', head)\n",
        "print('Tail: ', tail)"
      ],
      "metadata": {
        "colab": {
          "base_uri": "https://localhost:8080/"
        },
        "id": "fNLpjmf2axME",
        "outputId": "13e62cba-8a71-428c-f801-69ce513a5e48"
      },
      "execution_count": null,
      "outputs": [
        {
          "output_type": "stream",
          "name": "stdout",
          "text": [
            "Number of trails: 100\n",
            "Head:  52\n",
            "Tail:  48\n"
          ]
        }
      ]
    },
    {
      "cell_type": "markdown",
      "source": [
        "# Dice experiment"
      ],
      "metadata": {
        "id": "SENErtuTdtWe"
      }
    },
    {
      "cell_type": "code",
      "source": [
        "from random import randint\n",
        "trails = 10000\n",
        "outcome = []\n",
        "\n",
        "for i in range(trails):\n",
        "  outcome.append(randint(1,6))\n",
        "\n",
        "one = outcome.count(1)\n",
        "two = outcome.count(2)\n",
        "three = outcome.count(3)\n",
        "four = outcome.count(4)\n",
        "five = outcome.count(5)\n",
        "six = outcome.count(6)\n",
        "\n",
        "print('One: ', one)\n",
        "print('Two: ', two)\n",
        "print('Three: ', three)\n",
        "print('Four: ', four)\n",
        "print('Five: ', five)\n",
        "print('Six: ', six)"
      ],
      "metadata": {
        "colab": {
          "base_uri": "https://localhost:8080/"
        },
        "id": "2sGlmoLncpjF",
        "outputId": "93fad9f7-89bf-43ae-ada5-9e6cd4c755fb"
      },
      "execution_count": null,
      "outputs": [
        {
          "output_type": "stream",
          "name": "stdout",
          "text": [
            "One:  1609\n",
            "Two:  1769\n",
            "Three:  1689\n",
            "Four:  1648\n",
            "Five:  1628\n",
            "Six:  1657\n"
          ]
        }
      ]
    },
    {
      "cell_type": "markdown",
      "source": [
        "# Probability Multiplication Law\n",
        "- For `Independent Event`"
      ],
      "metadata": {
        "id": "6HyzKoD3e-q-"
      }
    },
    {
      "cell_type": "markdown",
      "source": [
        "### Question:\n",
        "- `Probability that the first marble is red after the second one is blue:` A container contains 3 blue marbles, 2 red and 4 yellow marbles. Now you are asked to first pick up a marble, write down its color and put it back in the container. Then pick another marble and write down its color. Now what is the probability that the second marble will be blue after the first marble is red?\n"
      ],
      "metadata": {
        "id": "pHm7UvUkhAaG"
      }
    },
    {
      "cell_type": "code",
      "source": [
        "def a_and_b(A, B, total):\n",
        "  probability_A = B/total\n",
        "  probability_B = B/total\n",
        "\n",
        "  # Multiplication Law\n",
        "  AB = probability_A*probability_B\n",
        "  print('Probability(A and B)', round(AB, 3))\n"
      ],
      "metadata": {
        "id": "8uI5-HqTeq95"
      },
      "execution_count": null,
      "outputs": []
    },
    {
      "cell_type": "code",
      "source": [
        "# red = 2\n",
        "# blue = 3\n",
        "# total = 9\n",
        "# a_and_b(red,blue,total)\n",
        "a_and_b(2,3,9)"
      ],
      "metadata": {
        "colab": {
          "base_uri": "https://localhost:8080/"
        },
        "id": "SEnYygZKf-aa",
        "outputId": "18cd9f5e-5306-4c5f-bb8f-7f540ed1d089"
      },
      "execution_count": null,
      "outputs": [
        {
          "output_type": "stream",
          "name": "stdout",
          "text": [
            "Probability(A and B) 0.111\n"
          ]
        }
      ]
    },
    {
      "cell_type": "markdown",
      "source": [
        "# Probability Multiplication Law\n",
        "- For `Conditional or Dependent Event`\n"
      ],
      "metadata": {
        "id": "jYOv1A4uhYDz"
      }
    },
    {
      "cell_type": "markdown",
      "source": [
        "### Question:\n",
        "- A box contains 5 green pencils and 7 yellow pencils. Suppose you first pick up a yellow pencil and never put it back. `What is the probability that the second pencil will be yellow?`"
      ],
      "metadata": {
        "id": "vjcy650oi_Ml"
      }
    },
    {
      "cell_type": "code",
      "source": [
        "def a_and_b_conditional(a, b, total):\n",
        "  PA = a/total\n",
        "  remaining_total = total-1\n",
        "  PB = remaining_total/total\n",
        "\n",
        "  # formula\n",
        "  ab = PA*PB\n",
        "  print('P(A and B)', round(ab, 3))"
      ],
      "metadata": {
        "id": "YpGj-x-2hfxg"
      },
      "execution_count": 1,
      "outputs": []
    },
    {
      "cell_type": "code",
      "source": [
        "# yellow = 7\n",
        "# remaining_yellow = 6\n",
        "# total = 12\n",
        "# a_and_b_conditional(yellow, remaining_yellow, total)\n",
        "a_and_b_conditional(7,6,12)"
      ],
      "metadata": {
        "colab": {
          "base_uri": "https://localhost:8080/"
        },
        "id": "XeFLmf4Zhf1K",
        "outputId": "8ed563f2-35a0-47b6-e356-5aca21d58d8f"
      },
      "execution_count": 3,
      "outputs": [
        {
          "output_type": "stream",
          "name": "stdout",
          "text": [
            "P(A and B) 0.535\n"
          ]
        }
      ]
    },
    {
      "cell_type": "markdown",
      "source": [
        "# Probability Adding Law\n",
        "- For `Mutually Exclusive event`\n",
        "\n"
      ],
      "metadata": {
        "id": "ShUnBOYbo7ig"
      }
    },
    {
      "cell_type": "markdown",
      "source": [
        "### Question:\n",
        "- `Probability of a King or Queen:` Suppose you are asked to pick any card from a pack of 52 cards. What is the probability that your chosen card will be a King or Queen?\n"
      ],
      "metadata": {
        "id": "Wd7UPchln98z"
      }
    },
    {
      "cell_type": "code",
      "source": [
        "def A_or_B(A, B,total):\n",
        "  PA = A/total\n",
        "  PB = B/total \n",
        "  \n",
        "  # Addtion law\n",
        "  AB = PA+PB\n",
        "  \n",
        "  print('P(A or B): ', round(AB, 3))\n"
      ],
      "metadata": {
        "id": "dGGbat1jgU13"
      },
      "execution_count": 12,
      "outputs": []
    },
    {
      "cell_type": "code",
      "source": [
        "# king=4\n",
        "# queen=4\n",
        "# total=52\n",
        "# A_or_B(king, queen, total)\n",
        "A_or_B(4, 4, 52)"
      ],
      "metadata": {
        "id": "T_GhVdPKrG8E",
        "colab": {
          "base_uri": "https://localhost:8080/"
        },
        "outputId": "55f7431c-ba3e-42c7-8708-0495a29edbc2"
      },
      "execution_count": 14,
      "outputs": [
        {
          "output_type": "stream",
          "name": "stdout",
          "text": [
            "P(A or B):  0.154\n"
          ]
        }
      ]
    },
    {
      "cell_type": "markdown",
      "source": [
        "# Probability Adding Law\n",
        "- For `Common event`"
      ],
      "metadata": {
        "id": "OxR2c96QpBDf"
      }
    },
    {
      "cell_type": "markdown",
      "source": [
        "### Question:\n",
        "- There are 30 students in a class, including 17 boys and 13 girls. 4 boys and 5 girls got A+ in class test. Now if you are asked to pick a student at random what is the probability of that student getting a girl or an A+?\n"
      ],
      "metadata": {
        "id": "FrUAQyhFpKdN"
      }
    },
    {
      "cell_type": "code",
      "source": [
        "def a_or_b_common(a, b, anb, total):\n",
        "  PA = a/total\n",
        "  PB = b/total\n",
        "  AnB = anb/total\n",
        "\n",
        "  # formula\n",
        "  AB = PA+PB-AnB\n",
        "\n",
        "  print('P(A or B: ', round(AB, 3))\n"
      ],
      "metadata": {
        "id": "_e-klsBAnr9M"
      },
      "execution_count": 15,
      "outputs": []
    },
    {
      "cell_type": "code",
      "source": [
        "# boys = 9\n",
        "# girls = 13\n",
        "# girls_and_Aplus = 5\n",
        "# total = 30\n",
        "\n",
        "# a_or_b_common(boys, girls, girls_and_Aplus, total)\n",
        "a_or_b_common(9, 13,5, 30)"
      ],
      "metadata": {
        "colab": {
          "base_uri": "https://localhost:8080/"
        },
        "id": "y3WSWmZ4tsVh",
        "outputId": "30229827-52c2-4de8-b270-1c0f57888868"
      },
      "execution_count": 19,
      "outputs": [
        {
          "output_type": "stream",
          "name": "stdout",
          "text": [
            "P(A or B:  0.567\n"
          ]
        }
      ]
    },
    {
      "cell_type": "markdown",
      "source": [
        "# Bayes theorem\n",
        "### Question:\n",
        "- Let's say you plan to go out for a picnic with family and friends on a Friday in January. When you wake up on Friday morning, you see the sky is cloudy, and you have a worry on your forehead, if it rains, all your plans are canceled! If you have some previous information, using this information, you want to know the probability of rain today?\n",
        "### `Prior information:`\n",
        "- 40% of the days are cloudy in the morning\n",
        "- 50% of the time it rains only when the sky is cloudy\n",
        "- January usually does not rain more than 3 days (10%)"
      ],
      "metadata": {
        "id": "3vfEBM_3uzy_"
      }
    },
    {
      "cell_type": "code",
      "source": [
        "def rain_prediction(a, b):\n",
        "  cloud_or_rain = P_cloud + P_rain\n",
        "\n",
        "  # formula\n",
        "  probability_of_rain = (P_rain * cloud_or_rain) / P_cloud\n",
        "  print('probability of rain in cloudy weather: ', round(probability_of_rain, 3))"
      ],
      "metadata": {
        "id": "ljR7bIc3udP9"
      },
      "execution_count": 32,
      "outputs": []
    },
    {
      "cell_type": "code",
      "source": [
        "# P_cloud = 0.4\n",
        "# P_rain = 0.1\n",
        "\n",
        "# rain_prediction(P_rain, P_cloud)\n",
        "rain_prediction(0.4, 0.1)"
      ],
      "metadata": {
        "colab": {
          "base_uri": "https://localhost:8080/"
        },
        "id": "ZBgFtkhiyKVi",
        "outputId": "26282c92-2f92-4d7e-a183-5d80ab371564"
      },
      "execution_count": 34,
      "outputs": [
        {
          "output_type": "stream",
          "name": "stdout",
          "text": [
            "probability of rain in cloudy weather:  0.125\n"
          ]
        }
      ]
    },
    {
      "cell_type": "code",
      "source": [],
      "metadata": {
        "id": "VrUDG1gnzP0O"
      },
      "execution_count": null,
      "outputs": []
    }
  ]
}